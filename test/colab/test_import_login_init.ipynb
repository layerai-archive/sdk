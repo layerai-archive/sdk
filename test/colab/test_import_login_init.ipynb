{
  "cells": [
    {
      "cell_type": "code",
      "execution_count": null,
      "metadata": {
        "colab": {
          "base_uri": "https://localhost:8080/",
          "height": 1000
        },
        "id": "c2j4iPcQM_dw",
        "outputId": "af14958b-fcb9-4a7d-c8df-8aaf64e2cd35"
      },
      "outputs": [],
      "source": [
        "!pip install ../../dist/layer-0.10.0b1-py3-none-any.whl"
      ]
    },
    {
      "cell_type": "code",
      "execution_count": null,
      "metadata": {
        "colab": {
          "base_uri": "https://localhost:8080/",
          "height": 461
        },
        "id": "vufPU6M0On4-",
        "outputId": "1e572b8b-ce7f-4907-8c42-54b638a07789"
      },
      "outputs": [],
      "source": [
        "import layer\n",
        "import os\n",
        "\n",
        "layer.login_with_api_key(os.environ.get(\"LAYER_API_KEY\"))\n",
        "layer.login()"
      ]
    }
  ],
  "metadata": {
    "colab": {
      "name": "replicate-inc13.ipynb",
      "provenance": []
    },
    "kernelspec": {
      "display_name": "Python 3.8.13 ('layer-YHuFjZ3r-py3.8')",
      "language": "python",
      "name": "python3"
    },
    "language_info": {
      "name": "python",
      "version": "3.8.13"
    },
    "vscode": {
      "interpreter": {
        "hash": "cac02caba0580aa41d061132e1fcfe49c99980ef20b736d57f6eddb8b57cba8e"
      }
    }
  },
  "nbformat": 4,
  "nbformat_minor": 0
}
